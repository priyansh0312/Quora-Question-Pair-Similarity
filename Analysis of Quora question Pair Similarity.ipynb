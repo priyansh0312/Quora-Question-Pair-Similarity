{
 "cells": [
  {
   "cell_type": "markdown",
   "id": "7efb5c0b",
   "metadata": {},
   "source": [
    "# Quora Question Pair Similarity"
   ]
  },
  {
   "cell_type": "markdown",
   "id": "f57dcaad",
   "metadata": {},
   "source": [
    "# Introduction\n",
    "\n",
    "Quora is a platform for Q&A, just like StackOverflow. But quora is more of a general-purpose Q&A platform that means there is not much code like in StackOverflow.\n",
    "\n",
    "One of the many problems that quora face is the duplication of questions. Duplication of question ruins the experience for both the questioner and the answerer. Since the questioner is asking a duplicate question, we can just show him/her the answers to the previous question. And the answerer doesn't have to repeat his/her answer for essentially the same questions.\n",
    "\n",
    "For example, we have a question like \"How can I be a good geologist?\" and there are some answers to that question. Later someone else asks another question like \"What should I do to be a great geologist?\".<br>\n",
    "We can see that both the questions are asking the same thing. Even though the wordings for the question are different, the intention of both questions is same. <br>\n",
    "So the answers will be same for both questions. That means we can just show the answers of the first question. That way the person who is asking the question will get the answers immediately and people who have answered already the first question don't have to repeat themselves.\n",
    "\n",
    "This problem is available on Kaggle as a competition. https://www.kaggle.com/c/quora-question-pairs\n",
    "\n",
    "\n",
    "# Business Objectives and Constraints\n",
    "\n",
    "- There is no strict latency requirement.\n",
    "- We would like to have interpretability but it is not absolutely mandatory.\n",
    "- The cost of misclassification is medium.\n",
    "- Both classes (duplicate or not) are equally important."
   ]
  },
  {
   "cell_type": "markdown",
   "id": "c9fffd70",
   "metadata": {},
   "source": [
    "# Importing Libraries and reading data"
   ]
  },
  {
   "cell_type": "code",
   "execution_count": 1,
   "id": "dd6f7d01",
   "metadata": {},
   "outputs": [],
   "source": [
    "\n",
    "# Visualisation and dataframes\n",
    "import numpy as np\n",
    "import pandas as pd\n",
    "import seaborn as sns\n",
    "import matplotlib.pyplot as plt\n",
    "%matplotlib inline\n",
    "\n",
    "\n",
    "# Text cleaning and preprocessing\n",
    "import re\n",
    "import nltk\n",
    "import unicodedata\n",
    "import contractions\n",
    "from bs4 import BeautifulSoup\n",
    "from textblob import TextBlob\n",
    "from nltk.corpus import stopwords\n",
    "from nltk.stem import PorterStemmer, WordNetLemmatizer\n",
    "\n",
    "\n",
    "# Vectorization and train-test-split\n",
    "from sklearn.model_selection import train_test_split\n",
    "from sklearn.feature_extraction.text import TfidfVectorizer, CountVectorizer\n",
    "\n",
    "\n",
    "# Classification Models\n",
    "from sklearn.linear_model import LogisticRegression\n",
    "from sklearn.naive_bayes import GaussianNB\n",
    "from sklearn.svm import SVC\n",
    "from sklearn.ensemble import RandomForestClassifier\n",
    "\n",
    "\n",
    "# metrics\n",
    "from sklearn import metrics\n",
    "from sklearn.metrics import accuracy_score\n",
    "from sklearn.metrics import plot_confusion_matrix\n",
    "\n",
    "\n",
    "# Others\n",
    "import warnings\n",
    "from collections import Counter\n",
    "from wordcloud import WordCloud,STOPWORDS\n",
    "\n",
    "warnings.filterwarnings('ignore')\n",
    "pd.pandas.set_option('display.max_colwidth',None)"
   ]
  },
  {
   "cell_type": "code",
   "execution_count": 2,
   "id": "bddf5062",
   "metadata": {},
   "outputs": [],
   "source": [
    "df = pd.read_csv('train.csv')"
   ]
  },
  {
   "cell_type": "code",
   "execution_count": 3,
   "id": "a78b71d2",
   "metadata": {},
   "outputs": [
    {
     "name": "stdout",
     "output_type": "stream",
     "text": [
      "(404290, 6)\n"
     ]
    },
    {
     "data": {
      "text/html": [
       "<div>\n",
       "<style scoped>\n",
       "    .dataframe tbody tr th:only-of-type {\n",
       "        vertical-align: middle;\n",
       "    }\n",
       "\n",
       "    .dataframe tbody tr th {\n",
       "        vertical-align: top;\n",
       "    }\n",
       "\n",
       "    .dataframe thead th {\n",
       "        text-align: right;\n",
       "    }\n",
       "</style>\n",
       "<table border=\"1\" class=\"dataframe\">\n",
       "  <thead>\n",
       "    <tr style=\"text-align: right;\">\n",
       "      <th></th>\n",
       "      <th>id</th>\n",
       "      <th>qid1</th>\n",
       "      <th>qid2</th>\n",
       "      <th>question1</th>\n",
       "      <th>question2</th>\n",
       "      <th>is_duplicate</th>\n",
       "    </tr>\n",
       "  </thead>\n",
       "  <tbody>\n",
       "    <tr>\n",
       "      <th>0</th>\n",
       "      <td>0</td>\n",
       "      <td>1</td>\n",
       "      <td>2</td>\n",
       "      <td>What is the step by step guide to invest in share market in india?</td>\n",
       "      <td>What is the step by step guide to invest in share market?</td>\n",
       "      <td>0</td>\n",
       "    </tr>\n",
       "    <tr>\n",
       "      <th>1</th>\n",
       "      <td>1</td>\n",
       "      <td>3</td>\n",
       "      <td>4</td>\n",
       "      <td>What is the story of Kohinoor (Koh-i-Noor) Diamond?</td>\n",
       "      <td>What would happen if the Indian government stole the Kohinoor (Koh-i-Noor) diamond back?</td>\n",
       "      <td>0</td>\n",
       "    </tr>\n",
       "    <tr>\n",
       "      <th>2</th>\n",
       "      <td>2</td>\n",
       "      <td>5</td>\n",
       "      <td>6</td>\n",
       "      <td>How can I increase the speed of my internet connection while using a VPN?</td>\n",
       "      <td>How can Internet speed be increased by hacking through DNS?</td>\n",
       "      <td>0</td>\n",
       "    </tr>\n",
       "    <tr>\n",
       "      <th>3</th>\n",
       "      <td>3</td>\n",
       "      <td>7</td>\n",
       "      <td>8</td>\n",
       "      <td>Why am I mentally very lonely? How can I solve it?</td>\n",
       "      <td>Find the remainder when [math]23^{24}[/math] is divided by 24,23?</td>\n",
       "      <td>0</td>\n",
       "    </tr>\n",
       "    <tr>\n",
       "      <th>4</th>\n",
       "      <td>4</td>\n",
       "      <td>9</td>\n",
       "      <td>10</td>\n",
       "      <td>Which one dissolve in water quikly sugar, salt, methane and carbon di oxide?</td>\n",
       "      <td>Which fish would survive in salt water?</td>\n",
       "      <td>0</td>\n",
       "    </tr>\n",
       "  </tbody>\n",
       "</table>\n",
       "</div>"
      ],
      "text/plain": [
       "   id  qid1  qid2  \\\n",
       "0   0     1     2   \n",
       "1   1     3     4   \n",
       "2   2     5     6   \n",
       "3   3     7     8   \n",
       "4   4     9    10   \n",
       "\n",
       "                                                                      question1  \\\n",
       "0            What is the step by step guide to invest in share market in india?   \n",
       "1                           What is the story of Kohinoor (Koh-i-Noor) Diamond?   \n",
       "2     How can I increase the speed of my internet connection while using a VPN?   \n",
       "3                            Why am I mentally very lonely? How can I solve it?   \n",
       "4  Which one dissolve in water quikly sugar, salt, methane and carbon di oxide?   \n",
       "\n",
       "                                                                                  question2  \\\n",
       "0                                 What is the step by step guide to invest in share market?   \n",
       "1  What would happen if the Indian government stole the Kohinoor (Koh-i-Noor) diamond back?   \n",
       "2                               How can Internet speed be increased by hacking through DNS?   \n",
       "3                         Find the remainder when [math]23^{24}[/math] is divided by 24,23?   \n",
       "4                                                   Which fish would survive in salt water?   \n",
       "\n",
       "   is_duplicate  \n",
       "0             0  \n",
       "1             0  \n",
       "2             0  \n",
       "3             0  \n",
       "4             0  "
      ]
     },
     "execution_count": 3,
     "metadata": {},
     "output_type": "execute_result"
    }
   ],
   "source": [
    "print(df.shape)\n",
    "df.head()"
   ]
  },
  {
   "cell_type": "markdown",
   "id": "96db155d",
   "metadata": {},
   "source": [
    "# EDA"
   ]
  },
  {
   "cell_type": "markdown",
   "id": "d1cda9aa",
   "metadata": {},
   "source": [
    "## 1. EDA on unprocessed data"
   ]
  },
  {
   "cell_type": "code",
   "execution_count": 4,
   "id": "1ddb6a9e",
   "metadata": {},
   "outputs": [
    {
     "name": "stdout",
     "output_type": "stream",
     "text": [
      "Index(['id', 'qid1', 'qid2', 'question1', 'question2', 'is_duplicate'], dtype='object') \n",
      "\n",
      "0    255027\n",
      "1    149263\n",
      "Name: is_duplicate, dtype: int64 \n",
      "\n",
      "(404290, 6)\n"
     ]
    }
   ],
   "source": [
    "print(df.columns, '\\n')\n",
    "print(df.is_duplicate.value_counts(), '\\n')\n",
    "print(df.shape)"
   ]
  },
  {
   "cell_type": "code",
   "execution_count": 5,
   "id": "34670d7c",
   "metadata": {},
   "outputs": [
    {
     "data": {
      "image/png": "[encoded data removed]",
      "text/plain": [
       "<Figure size 432x288 with 1 Axes>"
      ]
     },
     "metadata": {
      "needs_background": "light"
     },
     "output_type": "display_data"
    }
   ],
   "source": [
    "# plotting label distribution\n",
    "def bar_plot(data, feature):\n",
    "    plot = sns.countplot(x =feature, data = data)\n",
    "    total = len(data)\n",
    "    for p in plot.patches:\n",
    "        percentage = '{:.1f}%'.format(100 * p.get_height()/total)\n",
    "        x = p.get_x() + p.get_width() / 2 - 0.05\n",
    "        y = p.get_y() + p.get_height()\n",
    "        plot.annotate(percentage, (x, y),ha=\"center\",\n",
    "            va=\"center\",\n",
    "            size=12,\n",
    "            xytext=(0, 5),\n",
    "            textcoords=\"offset points\")\n",
    "    plt.show()\n",
    "    \n",
    "bar_plot(df,'is_duplicate')"
   ]
  },
  {
   "cell_type": "markdown",
   "id": "9a06596e",
   "metadata": {},
   "source": [
    "Available Columns : <b>id, qid1, qid2, question1, question2, is_duplicate</b><br>\n",
    "Class labels : <b>0, 1</b><br>\n",
    "Total training data / No. of rows :  <b>404290</b><br>\n",
    "No. of columns :  <b>6</b><br>\n",
    "**is_duplicate** is the dependent variable.<br>\n",
    "No. of non-duplicate data points is <b>255027</b><br>\n",
    "No. of duplicate data points is <b>149263</b>"
   ]
  },
  {
   "cell_type": "markdown",
   "id": "83583c94",
   "metadata": {},
   "source": [
    "We have **404290** training data points. And only **36.92%** are positive. That means it is an imbalanced dataset."
   ]
  },
  {
   "cell_type": "code",
   "execution_count": 6,
   "id": "6016601c",
   "metadata": {},
   "outputs": [
    {
     "name": "stdout",
     "output_type": "stream",
     "text": [
      "<class 'pandas.core.frame.DataFrame'>\n",
      "RangeIndex: 404290 entries, 0 to 404289\n",
      "Data columns (total 6 columns):\n",
      " #   Column        Non-Null Count   Dtype \n",
      "---  ------        --------------   ----- \n",
      " 0   id            404290 non-null  int64 \n",
      " 1   qid1          404290 non-null  int64 \n",
      " 2   qid2          404290 non-null  int64 \n",
      " 3   question1     404289 non-null  object\n",
      " 4   question2     404288 non-null  object\n",
      " 5   is_duplicate  404290 non-null  int64 \n",
      "dtypes: int64(4), object(2)\n",
      "memory usage: 18.5+ MB\n"
     ]
    }
   ],
   "source": [
    "df.info()"
   ]
  },
  {
   "cell_type": "code",
   "execution_count": 7,
   "id": "507084b9",
   "metadata": {},
   "outputs": [
    {
     "data": {
      "text/plain": [
       "id              0\n",
       "qid1            0\n",
       "qid2            0\n",
       "question1       1\n",
       "question2       2\n",
       "is_duplicate    0\n",
       "dtype: int64"
      ]
     },
     "execution_count": 7,
     "metadata": {},
     "output_type": "execute_result"
    }
   ],
   "source": [
    "df.isnull().sum()"
   ]
  },
  {
   "cell_type": "markdown",
   "id": "73cc6dec",
   "metadata": {},
   "source": [
    "removing the null values since there are just 3"
   ]
  },
  {
   "cell_type": "code",
   "execution_count": 8,
   "id": "c53cb9e3",
   "metadata": {},
   "outputs": [],
   "source": [
    "df = df.dropna()"
   ]
  },
  {
   "cell_type": "code",
   "execution_count": 9,
   "id": "790e0db7",
   "metadata": {},
   "outputs": [
    {
     "data": {
      "text/plain": [
       "Index(['id', 'qid1', 'qid2', 'question1', 'question2', 'is_duplicate'], dtype='object')"
      ]
     },
     "execution_count": 9,
     "metadata": {},
     "output_type": "execute_result"
    }
   ],
   "source": [
    "df.columns"
   ]
  },
  {
   "cell_type": "code",
   "execution_count": 10,
   "id": "fd8cc768",
   "metadata": {},
   "outputs": [
    {
     "name": "stdout",
     "output_type": "stream",
     "text": [
      "unique ids for question1 : 290652\n",
      "unique ids for question1 : 299362\n"
     ]
    }
   ],
   "source": [
    "# getting unique ids for each question\n",
    "print('unique ids for question1 :', df.qid1.nunique())\n",
    "print('unique ids for question1 :', df.qid2.nunique())"
   ]
  },
  {
   "cell_type": "code",
   "execution_count": 11,
   "id": "afd69fd3",
   "metadata": {},
   "outputs": [
    {
     "name": "stdout",
     "output_type": "stream",
     "text": [
      "537929\n",
      "808574\n"
     ]
    },
    {
     "data": {
      "image/png": "[encoded data removed]",
      "text/plain": [
       "<Figure size 720x360 with 1 Axes>"
      ]
     },
     "metadata": {
      "needs_background": "light"
     },
     "output_type": "display_data"
    },
    {
     "name": "stdout",
     "output_type": "stream",
     "text": [
      "0 157\n"
     ]
    }
   ],
   "source": [
    "# checking questions vs Repetition\n",
    "qids = np.append(df.qid1.values,df.qid2.values)\n",
    "print(len(set(qids)))\n",
    "print(len(qids))\n",
    "\n",
    "occurences = np.bincount(qids)  # counts the occurence of every element in the array\n",
    "plt.figure(figsize=(10,5)) \n",
    "plt.hist(occurences, bins=range(0,np.max(occurences)))\n",
    "plt.yscale('log')\n",
    "plt.xlabel('Number of times question repeated')\n",
    "plt.ylabel('Number of questions')\n",
    "plt.title('Question vs Repeatition')\n",
    "plt.show()\n",
    "print(np.min(occurences), np.max(occurences))"
   ]
  },
  {
   "cell_type": "markdown",
   "id": "8edfe8af",
   "metadata": {},
   "source": [
    "* Out of **808574** total questions (including both question1 and question2), **537929** are unique.\n",
    "* One question is repeated **157** times which is the max number of repetitions."
   ]
  },
  {
   "cell_type": "markdown",
   "id": "47c76b4b",
   "metadata": {},
   "source": [
    "## 2. Data Cleaning\n",
    "In this section we will clean the data inorder to get the important features from the data.\n",
    "The following steps will be processed in a step by step fashion"
   ]
  },
  {
   "cell_type": "code",
   "execution_count": 12,
   "id": "c61c17ca",
   "metadata": {},
   "outputs": [],
   "source": [
    "def clean_text(text, lemma = True):\n",
    "    # lowercase\n",
    "    text = text.lower()\n",
    "            \n",
    "    # URL removal\n",
    "    url = re.compile(r'https?://\\S+|www\\.\\S+')\n",
    "    text = url.sub(r'', text)\n",
    "    \n",
    "    # replace contractions\n",
    "    text = contractions.fix(text)\n",
    "    \n",
    "    # replace accented characters\n",
    "    text = unicodedata.normalize('NFKD', text).encode('ascii', 'ignore').decode('utf-8', 'ignore')\n",
    "    \n",
    "    # remove HTML tags\n",
    "    soup = BeautifulSoup(text, \"html.parser\")\n",
    "    text = soup.get_text()\n",
    "    \n",
    "    # remove special characters\n",
    "    text = re.sub('[^a-zA-Z\\s]', '', text)\n",
    "    \n",
    "    # emoji removal\n",
    "    emoji_pattern = re.compile(\"[\"\n",
    "        u\"\\U0001F600-\\U0001F64F\"  # emoticons\n",
    "        u\"\\U0001F300-\\U0001F5FF\"  # symbols & pictographs\n",
    "        u\"\\U0001F680-\\U0001F6FF\"  # transport & map symbols\n",
    "        u\"\\U0001F1E0-\\U0001F1FF\"  # flags\n",
    "        u\"\\U00002702-\\U000027B0\"\n",
    "        u\"\\U000024C2-\\U0001F251\"\n",
    "        \"]+\", flags=re.UNICODE)\n",
    "    text = emoji_pattern.sub(r'', text)\n",
    "    \n",
    "    # split text to remove stopwords and lemmatize the text\n",
    "    text = text.split()\n",
    "\n",
    "    # remove stopwords\n",
    "    stopwords_list = set(stopwords.words(\"english\"))\n",
    "    stopwords_list.remove('not')\n",
    "    stopwords_list.remove('no')\n",
    "    text = [word for word in text if word not in stopwords_list]\n",
    "    \n",
    "    # lemmatizing\n",
    "    lemmatizer = WordNetLemmatizer()\n",
    "    ps = PorterStemmer()\n",
    "\n",
    "    if lemma:\n",
    "#         text = lemmatizer.lemmatize(text)\n",
    "        text = [lemmatizer.lemmatize(word) for word in text]\n",
    "        text = [lemmatizer.lemmatize(word, \"v\") for word in text]\n",
    "    else:\n",
    "        text = [ps.stem(word) for word in text]\n",
    "        \n",
    "    return ' '.join(text)\n"
   ]
  },
  {
   "cell_type": "markdown",
   "id": "03109e4f",
   "metadata": {},
   "source": [
    "#### Sampling the data\n",
    "We need to sample the data in order to perform the rest of the analysis since the dataset contains around **400k** items which will require high computational power. Therefor, for the analysis purpose, we can use a small chunk of the dataset(around **80k**) samples."
   ]
  },
  {
   "cell_type": "code",
   "execution_count": 13,
   "id": "3ffadd9e",
   "metadata": {},
   "outputs": [],
   "source": [
    "X = df.drop('is_duplicate', axis = 1)\n",
    "y = df['is_duplicate']\n",
    "X_train, X_test, y_train, y_test = train_test_split(X, y, test_size = 0.80, random_state = 0)"
   ]
  },
  {
   "cell_type": "code",
   "execution_count": 14,
   "id": "078ddf81",
   "metadata": {},
   "outputs": [
    {
     "name": "stdout",
     "output_type": "stream",
     "text": [
      "(80857, 5) (80857,)\n",
      "(323430, 5) (323430,)\n"
     ]
    }
   ],
   "source": [
    "print(X_train.shape, y_train.shape)\n",
    "print(X_test.shape, y_test.shape)"
   ]
  },
  {
   "cell_type": "markdown",
   "id": "76903016",
   "metadata": {},
   "source": [
    "- We will use only 20% of the data for further cleaning since\n",
    "- The test data is taken to be 80% fo the total data which can further be used for testing the model performance"
   ]
  },
  {
   "cell_type": "code",
   "execution_count": 15,
   "id": "dffc4c87",
   "metadata": {},
   "outputs": [],
   "source": [
    "# cleaning the train data\n",
    "data = X_train.copy()\n",
    "data['question1'] = data['question1'].apply(clean_text)\n",
    "data['question2'] = data['question2'].apply(clean_text)"
   ]
  },
  {
   "cell_type": "code",
   "execution_count": 16,
   "id": "748d513f",
   "metadata": {},
   "outputs": [
    {
     "data": {
      "text/html": [
       "<div>\n",
       "<style scoped>\n",
       "    .dataframe tbody tr th:only-of-type {\n",
       "        vertical-align: middle;\n",
       "    }\n",
       "\n",
       "    .dataframe tbody tr th {\n",
       "        vertical-align: top;\n",
       "    }\n",
       "\n",
       "    .dataframe thead th {\n",
       "        text-align: right;\n",
       "    }\n",
       "</style>\n",
       "<table border=\"1\" class=\"dataframe\">\n",
       "  <thead>\n",
       "    <tr style=\"text-align: right;\">\n",
       "      <th></th>\n",
       "      <th>id</th>\n",
       "      <th>qid1</th>\n",
       "      <th>qid2</th>\n",
       "      <th>question1</th>\n",
       "      <th>question2</th>\n",
       "    </tr>\n",
       "  </thead>\n",
       "  <tbody>\n",
       "    <tr>\n",
       "      <th>350474</th>\n",
       "      <td>350474</td>\n",
       "      <td>190838</td>\n",
       "      <td>107002</td>\n",
       "      <td>speak english native speaker</td>\n",
       "      <td>talk like native english speaker</td>\n",
       "    </tr>\n",
       "    <tr>\n",
       "      <th>61771</th>\n",
       "      <td>61771</td>\n",
       "      <td>2266</td>\n",
       "      <td>85864</td>\n",
       "      <td>get chance meet mr narendra modi</td>\n",
       "      <td>narendra modi meet modi</td>\n",
       "    </tr>\n",
       "    <tr>\n",
       "      <th>39801</th>\n",
       "      <td>39801</td>\n",
       "      <td>22110</td>\n",
       "      <td>26256</td>\n",
       "      <td>question mark improvement</td>\n",
       "      <td>question mark need improvement</td>\n",
       "    </tr>\n",
       "    <tr>\n",
       "      <th>2155</th>\n",
       "      <td>2155</td>\n",
       "      <td>4288</td>\n",
       "      <td>4289</td>\n",
       "      <td>data recovery lose contact iphone however icloud get back onto iphone</td>\n",
       "      <td>recover lose contact iphone</td>\n",
       "    </tr>\n",
       "    <tr>\n",
       "      <th>354900</th>\n",
       "      <td>354900</td>\n",
       "      <td>484080</td>\n",
       "      <td>484081</td>\n",
       "      <td>program language best suit</td>\n",
       "      <td>program language best suit script</td>\n",
       "    </tr>\n",
       "  </tbody>\n",
       "</table>\n",
       "</div>"
      ],
      "text/plain": [
       "            id    qid1    qid2  \\\n",
       "350474  350474  190838  107002   \n",
       "61771    61771    2266   85864   \n",
       "39801    39801   22110   26256   \n",
       "2155      2155    4288    4289   \n",
       "354900  354900  484080  484081   \n",
       "\n",
       "                                                                    question1  \\\n",
       "350474                                           speak english native speaker   \n",
       "61771                                        get chance meet mr narendra modi   \n",
       "39801                                               question mark improvement   \n",
       "2155    data recovery lose contact iphone however icloud get back onto iphone   \n",
       "354900                                             program language best suit   \n",
       "\n",
       "                                question2  \n",
       "350474   talk like native english speaker  \n",
       "61771             narendra modi meet modi  \n",
       "39801      question mark need improvement  \n",
       "2155          recover lose contact iphone  \n",
       "354900  program language best suit script  "
      ]
     },
     "execution_count": 16,
     "metadata": {},
     "output_type": "execute_result"
    }
   ],
   "source": [
    "data.head()"
   ]
  },
  {
   "cell_type": "markdown",
   "id": "6f770408",
   "metadata": {},
   "source": [
    "Now since the data is clean and preprocessed, we can make new features for better analysis"
   ]
  },
  {
   "cell_type": "markdown",
   "id": "a009d57d",
   "metadata": {},
   "source": [
    "## 3. Featurization\n",
    "In this section we will create some features in order to get insights on how the question dimensions are related to the duplicacy"
   ]
  },
  {
   "cell_type": "markdown",
   "id": "6e9edbe1",
   "metadata": {},
   "source": [
    "- **q1_char_count** - count of characters in question 1\n",
    "- **q2_char_count** - count of characters in question 1\n",
    "- **q1_word_count** - count of words in question 1\n",
    "- **q2_word_count** - count of words in question 1\n",
    "- **TOTAL_WORDS**   - total words in both questions combined\n",
    "- **common_word_count** - number of common words in both questions\n",
    "- **differ_word_count** - different words in both questions\n",
    "- **first_word_same** - (1) if first word of both the questions is same else (0)\n",
    "- **last_word_same** - (1) if last word of both the questions is same else (0)\n",
    "- **unique_word_count** - number of unique words in both the questions"
   ]
  },
  {
   "cell_type": "code",
   "execution_count": 17,
   "id": "e68bc20e",
   "metadata": {},
   "outputs": [],
   "source": [
    "# function for checking if the first word/ last word is same\n",
    "def is_same(data, index):\n",
    "    q1, q2 = data['question1'], data['question2']\n",
    "    q1 = q1.split()\n",
    "    q2 = q2.split()\n",
    "    if len(q1)>0 and len(q2)>0 and q1[index]==q2[index]:\n",
    "        return 1\n",
    "    else:\n",
    "        return 0"
   ]
  },
  {
   "cell_type": "code",
   "execution_count": 18,
   "id": "e634f62f",
   "metadata": {},
   "outputs": [],
   "source": [
    "# Extracting important features which might be useful for bussiness analysis\n",
    "data['q1_char_count'] = data.question1.apply(len)\n",
    "data['q2_char_count'] = data.question2.apply(len)\n",
    "data['q1_word_count'] = data.question1.apply(lambda x: len(x.split()))\n",
    "data['q2_word_count'] = data.question2.apply(lambda x: len(x.split()))\n",
    "data['TOTAL_WORDS'] = data['q1_word_count'] + data['q2_word_count']\n",
    "data['common_word_count'] = data.apply(lambda x: len(set(x.question1.split())&(set(x.question2.split()))) ,axis=1)\n",
    "data['differ_word_count'] = abs(data['q1_word_count'] - data['q2_word_count'])\n",
    "data['first_word_same'] = data.apply(lambda x: is_same(x, 0),axis=1)\n",
    "data['last_word_same'] = data.apply(lambda x:  is_same(x, -1), axis = 1)\n",
    "data['unique_word_count'] = data.apply(lambda x: len(set(x.question1.split())|(set(x.question2.split()))) ,axis=1)"
   ]
  },
  {
   "cell_type": "code",
   "execution_count": 19,
   "id": "a6e52db9",
   "metadata": {},
   "outputs": [
    {
     "data": {
      "text/html": [
       "<div>\n",
       "<style scoped>\n",
       "    .dataframe tbody tr th:only-of-type {\n",
       "        vertical-align: middle;\n",
       "    }\n",
       "\n",
       "    .dataframe tbody tr th {\n",
       "        vertical-align: top;\n",
       "    }\n",
       "\n",
       "    .dataframe thead th {\n",
       "        text-align: right;\n",
       "    }\n",
       "</style>\n",
       "<table border=\"1\" class=\"dataframe\">\n",
       "  <thead>\n",
       "    <tr style=\"text-align: right;\">\n",
       "      <th></th>\n",
       "      <th>id</th>\n",
       "      <th>qid1</th>\n",
       "      <th>qid2</th>\n",
       "      <th>question1</th>\n",
       "      <th>question2</th>\n",
       "      <th>q1_char_count</th>\n",
       "      <th>q2_char_count</th>\n",
       "      <th>q1_word_count</th>\n",
       "      <th>q2_word_count</th>\n",
       "      <th>TOTAL_WORDS</th>\n",
       "      <th>common_word_count</th>\n",
       "      <th>differ_word_count</th>\n",
       "      <th>first_word_same</th>\n",
       "      <th>last_word_same</th>\n",
       "      <th>unique_word_count</th>\n",
       "    </tr>\n",
       "  </thead>\n",
       "  <tbody>\n",
       "    <tr>\n",
       "      <th>350474</th>\n",
       "      <td>350474</td>\n",
       "      <td>190838</td>\n",
       "      <td>107002</td>\n",
       "      <td>speak english native speaker</td>\n",
       "      <td>talk like native english speaker</td>\n",
       "      <td>28</td>\n",
       "      <td>32</td>\n",
       "      <td>4</td>\n",
       "      <td>5</td>\n",
       "      <td>9</td>\n",
       "      <td>3</td>\n",
       "      <td>1</td>\n",
       "      <td>0</td>\n",
       "      <td>1</td>\n",
       "      <td>6</td>\n",
       "    </tr>\n",
       "    <tr>\n",
       "      <th>61771</th>\n",
       "      <td>61771</td>\n",
       "      <td>2266</td>\n",
       "      <td>85864</td>\n",
       "      <td>get chance meet mr narendra modi</td>\n",
       "      <td>narendra modi meet modi</td>\n",
       "      <td>32</td>\n",
       "      <td>23</td>\n",
       "      <td>6</td>\n",
       "      <td>4</td>\n",
       "      <td>10</td>\n",
       "      <td>3</td>\n",
       "      <td>2</td>\n",
       "      <td>0</td>\n",
       "      <td>1</td>\n",
       "      <td>6</td>\n",
       "    </tr>\n",
       "    <tr>\n",
       "      <th>39801</th>\n",
       "      <td>39801</td>\n",
       "      <td>22110</td>\n",
       "      <td>26256</td>\n",
       "      <td>question mark improvement</td>\n",
       "      <td>question mark need improvement</td>\n",
       "      <td>25</td>\n",
       "      <td>30</td>\n",
       "      <td>3</td>\n",
       "      <td>4</td>\n",
       "      <td>7</td>\n",
       "      <td>3</td>\n",
       "      <td>1</td>\n",
       "      <td>1</td>\n",
       "      <td>1</td>\n",
       "      <td>4</td>\n",
       "    </tr>\n",
       "    <tr>\n",
       "      <th>2155</th>\n",
       "      <td>2155</td>\n",
       "      <td>4288</td>\n",
       "      <td>4289</td>\n",
       "      <td>data recovery lose contact iphone however icloud get back onto iphone</td>\n",
       "      <td>recover lose contact iphone</td>\n",
       "      <td>69</td>\n",
       "      <td>27</td>\n",
       "      <td>11</td>\n",
       "      <td>4</td>\n",
       "      <td>15</td>\n",
       "      <td>3</td>\n",
       "      <td>7</td>\n",
       "      <td>0</td>\n",
       "      <td>1</td>\n",
       "      <td>11</td>\n",
       "    </tr>\n",
       "    <tr>\n",
       "      <th>354900</th>\n",
       "      <td>354900</td>\n",
       "      <td>484080</td>\n",
       "      <td>484081</td>\n",
       "      <td>program language best suit</td>\n",
       "      <td>program language best suit script</td>\n",
       "      <td>26</td>\n",
       "      <td>33</td>\n",
       "      <td>4</td>\n",
       "      <td>5</td>\n",
       "      <td>9</td>\n",
       "      <td>4</td>\n",
       "      <td>1</td>\n",
       "      <td>1</td>\n",
       "      <td>0</td>\n",
       "      <td>5</td>\n",
       "    </tr>\n",
       "    <tr>\n",
       "      <th>...</th>\n",
       "      <td>...</td>\n",
       "      <td>...</td>\n",
       "      <td>...</td>\n",
       "      <td>...</td>\n",
       "      <td>...</td>\n",
       "      <td>...</td>\n",
       "      <td>...</td>\n",
       "      <td>...</td>\n",
       "      <td>...</td>\n",
       "      <td>...</td>\n",
       "      <td>...</td>\n",
       "      <td>...</td>\n",
       "      <td>...</td>\n",
       "      <td>...</td>\n",
       "      <td>...</td>\n",
       "    </tr>\n",
       "    <tr>\n",
       "      <th>359785</th>\n",
       "      <td>359785</td>\n",
       "      <td>489474</td>\n",
       "      <td>489475</td>\n",
       "      <td>java android</td>\n",
       "      <td>rjava android</td>\n",
       "      <td>12</td>\n",
       "      <td>13</td>\n",
       "      <td>2</td>\n",
       "      <td>2</td>\n",
       "      <td>4</td>\n",
       "      <td>1</td>\n",
       "      <td>0</td>\n",
       "      <td>0</td>\n",
       "      <td>1</td>\n",
       "      <td>3</td>\n",
       "    </tr>\n",
       "    <tr>\n",
       "      <th>358085</th>\n",
       "      <td>358085</td>\n",
       "      <td>487519</td>\n",
       "      <td>487520</td>\n",
       "      <td>proper length men pant</td>\n",
       "      <td>proper length men suit pant</td>\n",
       "      <td>22</td>\n",
       "      <td>27</td>\n",
       "      <td>4</td>\n",
       "      <td>5</td>\n",
       "      <td>9</td>\n",
       "      <td>4</td>\n",
       "      <td>1</td>\n",
       "      <td>1</td>\n",
       "      <td>1</td>\n",
       "      <td>5</td>\n",
       "    </tr>\n",
       "    <tr>\n",
       "      <th>152316</th>\n",
       "      <td>152316</td>\n",
       "      <td>239317</td>\n",
       "      <td>237326</td>\n",
       "      <td>know whether want mbbs something else</td>\n",
       "      <td>know really want become doctor</td>\n",
       "      <td>37</td>\n",
       "      <td>30</td>\n",
       "      <td>6</td>\n",
       "      <td>5</td>\n",
       "      <td>11</td>\n",
       "      <td>2</td>\n",
       "      <td>1</td>\n",
       "      <td>1</td>\n",
       "      <td>0</td>\n",
       "      <td>9</td>\n",
       "    </tr>\n",
       "    <tr>\n",
       "      <th>117953</th>\n",
       "      <td>117953</td>\n",
       "      <td>191822</td>\n",
       "      <td>191823</td>\n",
       "      <td>hack snapchat chat history</td>\n",
       "      <td>spy snapchat chat history</td>\n",
       "      <td>26</td>\n",
       "      <td>25</td>\n",
       "      <td>4</td>\n",
       "      <td>4</td>\n",
       "      <td>8</td>\n",
       "      <td>3</td>\n",
       "      <td>0</td>\n",
       "      <td>0</td>\n",
       "      <td>1</td>\n",
       "      <td>5</td>\n",
       "    </tr>\n",
       "    <tr>\n",
       "      <th>305713</th>\n",
       "      <td>305713</td>\n",
       "      <td>377479</td>\n",
       "      <td>429153</td>\n",
       "      <td>social medium change world</td>\n",
       "      <td>social medial change world</td>\n",
       "      <td>26</td>\n",
       "      <td>26</td>\n",
       "      <td>4</td>\n",
       "      <td>4</td>\n",
       "      <td>8</td>\n",
       "      <td>3</td>\n",
       "      <td>0</td>\n",
       "      <td>1</td>\n",
       "      <td>1</td>\n",
       "      <td>5</td>\n",
       "    </tr>\n",
       "  </tbody>\n",
       "</table>\n",
       "<p>80857 rows × 15 columns</p>\n",
       "</div>"
      ],
      "text/plain": [
       "            id    qid1    qid2  \\\n",
       "350474  350474  190838  107002   \n",
       "61771    61771    2266   85864   \n",
       "39801    39801   22110   26256   \n",
       "2155      2155    4288    4289   \n",
       "354900  354900  484080  484081   \n",
       "...        ...     ...     ...   \n",
       "359785  359785  489474  489475   \n",
       "358085  358085  487519  487520   \n",
       "152316  152316  239317  237326   \n",
       "117953  117953  191822  191823   \n",
       "305713  305713  377479  429153   \n",
       "\n",
       "                                                                    question1  \\\n",
       "350474                                           speak english native speaker   \n",
       "61771                                        get chance meet mr narendra modi   \n",
       "39801                                               question mark improvement   \n",
       "2155    data recovery lose contact iphone however icloud get back onto iphone   \n",
       "354900                                             program language best suit   \n",
       "...                                                                       ...   \n",
       "359785                                                           java android   \n",
       "358085                                                 proper length men pant   \n",
       "152316                                  know whether want mbbs something else   \n",
       "117953                                             hack snapchat chat history   \n",
       "305713                                             social medium change world   \n",
       "\n",
       "                                question2  q1_char_count  q2_char_count  \\\n",
       "350474   talk like native english speaker             28             32   \n",
       "61771             narendra modi meet modi             32             23   \n",
       "39801      question mark need improvement             25             30   \n",
       "2155          recover lose contact iphone             69             27   \n",
       "354900  program language best suit script             26             33   \n",
       "...                                   ...            ...            ...   \n",
       "359785                      rjava android             12             13   \n",
       "358085        proper length men suit pant             22             27   \n",
       "152316     know really want become doctor             37             30   \n",
       "117953          spy snapchat chat history             26             25   \n",
       "305713         social medial change world             26             26   \n",
       "\n",
       "        q1_word_count  q2_word_count  TOTAL_WORDS  common_word_count  \\\n",
       "350474              4              5            9                  3   \n",
       "61771               6              4           10                  3   \n",
       "39801               3              4            7                  3   \n",
       "2155               11              4           15                  3   \n",
       "354900              4              5            9                  4   \n",
       "...               ...            ...          ...                ...   \n",
       "359785              2              2            4                  1   \n",
       "358085              4              5            9                  4   \n",
       "152316              6              5           11                  2   \n",
       "117953              4              4            8                  3   \n",
       "305713              4              4            8                  3   \n",
       "\n",
       "        differ_word_count  first_word_same  last_word_same  unique_word_count  \n",
       "350474                  1                0               1                  6  \n",
       "61771                   2                0               1                  6  \n",
       "39801                   1                1               1                  4  \n",
       "2155                    7                0               1                 11  \n",
       "354900                  1                1               0                  5  \n",
       "...                   ...              ...             ...                ...  \n",
       "359785                  0                0               1                  3  \n",
       "358085                  1                1               1                  5  \n",
       "152316                  1                1               0                  9  \n",
       "117953                  0                0               1                  5  \n",
       "305713                  0                1               1                  5  \n",
       "\n",
       "[80857 rows x 15 columns]"
      ]
     },
     "execution_count": 19,
     "metadata": {},
     "output_type": "execute_result"
    }
   ],
   "source": [
    "data"
   ]
  },
  {
   "cell_type": "markdown",
   "id": "37284c23",
   "metadata": {},
   "source": [
    "## 4. EDA on processed and cleaned data\n",
    "- We will plot Probability Density Function(PDF) that will represent the likelihood of duplicacy\n",
    "- Boxplot will be used for understanding outliers and quartiles"
   ]
  },
  {
   "cell_type": "code",
   "execution_count": 20,
   "id": "f621216e",
   "metadata": {},
   "outputs": [],
   "source": [
    "def plot_pdf_boxplot(feature):\n",
    "    fig, ax =plt.subplots(1,2,figsize=(15,5))\n",
    "    ax[0].title.set_text(f'PDF of {feature}')\n",
    "    sns.kdeplot(data[feature], hue=y_train, palette=\"Dark2\", ax=ax[0])\n",
    "    ax[1].title.set_text(f'Boxplot of {feature}')\n",
    "    sns.boxplot(x=y_train, y=data[feature], palette=\"Dark2\", ax=ax[1])\n",
    "    plt.show()"
   ]
  },
  {
   "cell_type": "code",
   "execution_count": 21,
   "id": "55d489bc",
   "metadata": {},
   "outputs": [
    {
     "data": {
      "image/png": "[encoded data removed]",
      "text/plain": [
       "<Figure size 1080x360 with 2 Axes>"
      ]
     },
     "metadata": {
      "needs_background": "light"
     },
     "output_type": "display_data"
    }
   ],
   "source": [
    "plot_pdf_boxplot('TOTAL_WORDS')"
   ]
  },
  {
   "cell_type": "markdown",
   "id": "1569bc31",
   "metadata": {},
   "source": [
    "- no of duplicate questions is less for high number of total words of both the questions"
   ]
  },
  {
   "cell_type": "code",
   "execution_count": 22,
   "id": "14b8c2b6",
   "metadata": {},
   "outputs": [
    {
     "data": {
      "image/png": "[encoded data removed]",
      "text/plain": [
       "<Figure size 1080x360 with 2 Axes>"
      ]
     },
     "metadata": {
      "needs_background": "light"
     },
     "output_type": "display_data"
    }
   ],
   "source": [
    "plot_pdf_boxplot('common_word_count')"
   ]
  },
  {
   "cell_type": "markdown",
   "id": "5e480be0",
   "metadata": {},
   "source": [
    "- with less common words between q1 and q2, the probablity of duplicacy is less. \n",
    "- boxplot indeicates that most duplicate questions have around 3 to 5 common words whereas many have around 5 to 7\n",
    "- there are many outliers in both duplicate and non duplicate questions"
   ]
  },
  {
   "cell_type": "code",
   "execution_count": 23,
   "id": "45668fba",
   "metadata": {},
   "outputs": [
    {
     "data": {
      "image/png": "[encoded data removed]",
      "text/plain": [
       "<Figure size 1080x360 with 2 Axes>"
      ]
     },
     "metadata": {
      "needs_background": "light"
     },
     "output_type": "display_data"
    }
   ],
   "source": [
    "plot_pdf_boxplot('differ_word_count')"
   ]
  },
  {
   "cell_type": "markdown",
   "id": "eaace7d6",
   "metadata": {},
   "source": [
    "- question pairs with less different words have more duplicacy as seen from the PDF\n",
    "- boxplot indicates the presence of outliers for non duplciate question pairs"
   ]
  },
  {
   "cell_type": "code",
   "execution_count": 24,
   "id": "62eaadb5",
   "metadata": {},
   "outputs": [
    {
     "data": {
      "image/png": "[encoded data removed]",
      "text/plain": [
       "<Figure size 1080x360 with 2 Axes>"
      ]
     },
     "metadata": {
      "needs_background": "light"
     },
     "output_type": "display_data"
    }
   ],
   "source": [
    "plot_pdf_boxplot('unique_word_count')"
   ]
  },
  {
   "cell_type": "markdown",
   "id": "92a546d5",
   "metadata": {},
   "source": [
    "- question pairs with less unique words have more duplicacy as seen from PDF\n",
    "- more the unique words, more are the probability of question pairs being non duplicate"
   ]
  },
  {
   "cell_type": "code",
   "execution_count": 25,
   "id": "3dcd6723",
   "metadata": {},
   "outputs": [],
   "source": [
    "def countplot(feature):\n",
    "    sns.countplot(x=data[feature], hue=y_train, palette='Set1')\n",
    "    plt.title(f'Countplot of {feature}')\n",
    "    plt.legend(['not_duplicate', 'duplicate'])\n",
    "    plt.show()"
   ]
  },
  {
   "cell_type": "code",
   "execution_count": 26,
   "id": "73b25444",
   "metadata": {},
   "outputs": [
    {
     "data": {
      "image/png": "[encoded data removed]",
      "text/plain": [
       "<Figure size 432x288 with 1 Axes>"
      ]
     },
     "metadata": {
      "needs_background": "light"
     },
     "output_type": "display_data"
    }
   ],
   "source": [
    "countplot('first_word_same')"
   ]
  },
  {
   "cell_type": "markdown",
   "id": "904f9c36",
   "metadata": {},
   "source": [
    "- around 15000 question pairs have first word same\n",
    "- around **14000** question pairs with same first words are duplicates"
   ]
  },
  {
   "cell_type": "code",
   "execution_count": 27,
   "id": "1a4f26ef",
   "metadata": {},
   "outputs": [
    {
     "data": {
      "image/png": "[encoded data removed]",
      "text/plain": [
       "<Figure size 432x288 with 1 Axes>"
      ]
     },
     "metadata": {
      "needs_background": "light"
     },
     "output_type": "display_data"
    }
   ],
   "source": [
    "countplot('last_word_same')"
   ]
  },
  {
   "cell_type": "markdown",
   "id": "a6ae233b",
   "metadata": {},
   "source": [
    "- around 16000 question pairs have same last words\n",
    "- around **16000** question pairs with same last words are duplicates"
   ]
  },
  {
   "cell_type": "code",
   "execution_count": 28,
   "id": "6e028e4d",
   "metadata": {},
   "outputs": [
    {
     "name": "stdout",
     "output_type": "stream",
     "text": [
      "count                   80857\n",
      "unique                  70008\n",
      "top       new year resolution\n",
      "freq                       70\n",
      "Name: question1, dtype: object\n",
      "\n",
      "count                   80857\n",
      "unique                  70095\n",
      "top       new year resolution\n",
      "freq                       67\n",
      "Name: question2, dtype: object\n"
     ]
    }
   ],
   "source": [
    "# describing text\n",
    "print(data.question1.describe())\n",
    "print()\n",
    "print(data.question2.describe())"
   ]
  },
  {
   "cell_type": "code",
   "execution_count": 29,
   "id": "0bd560d0",
   "metadata": {},
   "outputs": [],
   "source": [
    "# finding the unique words and distribution of unique words\n",
    "def unique_describe(feature):\n",
    "    total_words = []\n",
    "    for i in data[feature]:\n",
    "        for j in i.split():\n",
    "            total_words.append(j)\n",
    "    unique, counts = np.unique(total_words, return_counts=True)\n",
    "    print(f\"Total number  words in {feature} are        : \", len(total_words))\n",
    "    print(f\"Total number of UNIQUE words in {feature} are : \", len(unique))\n",
    "    \n",
    "    ndf = pd.DataFrame({\"Words\" : unique, \"Count\":counts })\n",
    "    ndf = ndf.sort_values(by ='Count', ascending=False)\n",
    "    return ndf.describe()"
   ]
  },
  {
   "cell_type": "code",
   "execution_count": 30,
   "id": "9b8383e0",
   "metadata": {},
   "outputs": [
    {
     "name": "stdout",
     "output_type": "stream",
     "text": [
      "Total number  words in question1 are        :  434486\n",
      "Total number of UNIQUE words in question1 are :  27934\n",
      "              Count\n",
      "count  27934.000000\n",
      "mean      15.554020\n",
      "std       96.567017\n",
      "min        1.000000\n",
      "25%        1.000000\n",
      "50%        1.000000\n",
      "75%        5.000000\n",
      "max     6712.000000 \n",
      "\n",
      "Total number  words in question2 are        :  440681\n",
      "Total number of UNIQUE words in question2 are :  25855\n",
      "              Count\n",
      "count  25855.000000\n",
      "mean      17.044324\n",
      "std      106.150095\n",
      "min        1.000000\n",
      "25%        1.000000\n",
      "50%        2.000000\n",
      "75%        5.000000\n",
      "max     7245.000000\n"
     ]
    }
   ],
   "source": [
    "print(unique_describe('question1'), '\\n')\n",
    "print(unique_describe('question2'))"
   ]
  },
  {
   "cell_type": "markdown",
   "id": "ccf4f363",
   "metadata": {},
   "source": [
    "- The mean of the unique words in question1 and question2 are **15.53** and **16.98** with a standard deviation of **96.17** and **105.56**, respectively\n",
    "- **75%** of the data(q1 and q2) has more than 5 unique words\n",
    "- There are several outliers since the max unique word count is **6765** and **7233** for q1 and q2 respectively"
   ]
  },
  {
   "cell_type": "markdown",
   "id": "aebdc3f3",
   "metadata": {},
   "source": [
    "# EDA conclusion"
   ]
  },
  {
   "cell_type": "markdown",
   "id": "7043a53b",
   "metadata": {},
   "source": [
    "- Question paris with high number of word count are less likely to be duplicates\n",
    "- More the common words in question pairs, more is the duplicacy, which is justified\n",
    "- Most duplicate questions have around 3 to 5 common words whereas early outliers have around 5 to 7\n",
    "- Question pairs with less unique words have more duplicacy\n",
    "- around 14000 question pairs with same first words are duplicates\n",
    "- around 16000 question pairs with same last words are duplicates\n",
    "- The mean of the unique words in question1 and question2 are 15.53 and 16.98 with a std of 96.17 and 105.56, respectively\n",
    "- 75% of the data(q1 and q2) has more than 5 unique words\n",
    "- There are several outliers since the max unique word count is 6765 and 7233 for q1 and q2 respectively"
   ]
  },
  {
   "cell_type": "markdown",
   "id": "f755d7bd",
   "metadata": {},
   "source": [
    "# Future Work\n",
    "- This notebook was focused on EDA on textural data with similarity detection\n",
    "- Vectoriztion techniques like TF-IDF can be further used to create the term document matrix of the textural data\n",
    "- Model training using XGBoost Classifer, Logistic Regression and Naive Bayes can further be performed on the training dataset.\n",
    "- XGBoost Classifier when performed with hyperparameter tuning will give the best results\n",
    "- The above mentioned steps have not been performed due to lack of computational power and extensiveness of the dataset"
   ]
  }
 ],
 "metadata": {
  "kernelspec": {
   "display_name": "Python 3 (ipykernel)",
   "language": "python",
   "name": "python3"
  },
  "language_info": {
   "codemirror_mode": {
    "name": "ipython",
    "version": 3
   },
   "file_extension": ".py",
   "mimetype": "text/x-python",
   "name": "python",
   "nbconvert_exporter": "python",
   "pygments_lexer": "ipython3",
   "version": "3.9.7"
  }
 },
 "nbformat": 4,
 "nbformat_minor": 5
}
